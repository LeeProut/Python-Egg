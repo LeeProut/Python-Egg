{
 "cells": [
  {
   "cell_type": "markdown",
   "metadata": {},
   "source": [
    "## Introducing Python by Bill Lubanovic¶\n",
    "### Chapter 9\n",
    "#### Functions"
   ]
  },
  {
   "cell_type": "code",
   "execution_count": 4,
   "metadata": {},
   "outputs": [
    {
     "name": "stdout",
     "output_type": "stream",
     "text": [
      "That's right!\n"
     ]
    }
   ],
   "source": [
    "def agree():\n",
    "    return True\n",
    "\n",
    "if agree():\n",
    "    print(\"That's right!\")\n",
    "else: \n",
    "    print(\"Sorry\")"
   ]
  },
  {
   "cell_type": "code",
   "execution_count": 6,
   "metadata": {},
   "outputs": [
    {
     "data": {
      "text/plain": [
       "'Lee Lee'"
      ]
     },
     "execution_count": 6,
     "metadata": {},
     "output_type": "execute_result"
    }
   ],
   "source": [
    "def echo(name):\n",
    "    return name + ' ' + name\n",
    "\n",
    "echo(\"Lee\")"
   ]
  },
  {
   "cell_type": "code",
   "execution_count": 22,
   "metadata": {},
   "outputs": [
    {
     "name": "stdout",
     "output_type": "stream",
     "text": [
      "['Chris', 'Lee', 'Phyllis']\n",
      "['Dave', 'Hank', 'Karen', 'Kate']\n"
     ]
    },
    {
     "data": {
      "text/plain": [
       "\"['Chris', 'Lee', 'Phyllis'] listed in order.\""
      ]
     },
     "execution_count": 22,
     "metadata": {},
     "output_type": "execute_result"
    }
   ],
   "source": [
    "# create two lists and write a simple function to return the lists, sorted\n",
    "prouts = ['Lee', 'Chris', 'Phyllis']\n",
    "schindels = ['Karen', 'Dave', 'Kate', 'Hank']\n",
    "\n",
    "def sortfam(names):\n",
    "    return sorted(names)\n",
    "\n",
    "print(sortfam(prouts))\n",
    "print(sortfam(schindels))\n",
    "\n",
    "f\"{sortfam(prouts)} listed in order.\""
   ]
  },
  {
   "cell_type": "code",
   "execution_count": 1,
   "metadata": {},
   "outputs": [
    {
     "data": {
      "text/plain": [
       "\"I've never heard of the color magenta.\""
      ]
     },
     "execution_count": 1,
     "metadata": {},
     "output_type": "execute_result"
    }
   ],
   "source": [
    "# function with input argument\n",
    "def commentary(color):\n",
    "    if color == 'red': \n",
    "        return \"It's a tomato.\"\n",
    "    elif color == 'green':\n",
    "        return \"It's a green pepper.\"\n",
    "    elif color == 'bee purple':\n",
    "        return \"I don't know what it is, but only bees can see it.\"\n",
    "    else:\n",
    "        return f\"I've never heard of the color {color}.\"\n",
    "    \n",
    "comment = commentary('magenta')\n",
    "comment"
   ]
  },
  {
   "cell_type": "code",
   "execution_count": 3,
   "metadata": {},
   "outputs": [
    {
     "data": {
      "text/plain": [
       "{'beer': 'La Fin Du Monde', 'entree': 'steak au pouive', 'dessert': 'mousse'}"
      ]
     },
     "execution_count": 3,
     "metadata": {},
     "output_type": "execute_result"
    }
   ],
   "source": [
    "# positional arguments\n",
    "def menu(beer, entree, dessert): \n",
    "    return {'beer': beer, 'entree': entree, 'dessert': dessert}\n",
    "\n",
    "menu('La Fin Du Monde', 'steak au pouive', 'mousse')"
   ]
  },
  {
   "cell_type": "code",
   "execution_count": 4,
   "metadata": {},
   "outputs": [
    {
     "data": {
      "text/plain": [
       "{'beer': 'pilsner', 'entree': 'beouf', 'dessert': 'ice cream'}"
      ]
     },
     "execution_count": 4,
     "metadata": {},
     "output_type": "execute_result"
    }
   ],
   "source": [
    "# specify arguments by the names of corresponding parameters using keywords\n",
    "menu(entree='beouf', dessert='ice cream', beer='pilsner')\n"
   ]
  },
  {
   "cell_type": "code",
   "execution_count": 7,
   "metadata": {},
   "outputs": [
    {
     "data": {
      "text/plain": [
       "{'beer': 'lager', 'entree': 'chicken', 'dessert': 'flan'}"
      ]
     },
     "execution_count": 7,
     "metadata": {},
     "output_type": "execute_result"
    }
   ],
   "source": [
    "# mix positional and keyword arguments (positional arguments must come first)\n",
    "menu('lager','chicken', dessert='flan')"
   ]
  },
  {
   "cell_type": "code",
   "execution_count": 10,
   "metadata": {},
   "outputs": [
    {
     "data": {
      "text/plain": [
       "{'beer': 'lager', 'entree': 'chicken', 'dessert': 'pudding'}"
      ]
     },
     "execution_count": 10,
     "metadata": {},
     "output_type": "execute_result"
    }
   ],
   "source": [
    "# specify default parameters\n",
    "# pretend this bar only serves lager\n",
    "def menu(entree, dessert, beer='lager'):\n",
    "    return{'beer': beer, 'entree': entree, 'dessert': dessert}\n",
    "\n",
    "menu('chicken', 'pudding')"
   ]
  },
  {
   "cell_type": "code",
   "execution_count": 12,
   "metadata": {},
   "outputs": [
    {
     "data": {
      "text/plain": [
       "{'beer': 'Belgian dubbel', 'entree': 'steak', 'dessert': 'pie'}"
      ]
     },
     "execution_count": 12,
     "metadata": {},
     "output_type": "execute_result"
    }
   ],
   "source": [
    "# then one night they go crazy and serve a Belgian dubbel\n",
    "menu('steak', 'pie', 'Belgian dubbel')\n",
    "# note that the order of the arguments matches the parameters"
   ]
  },
  {
   "cell_type": "code",
   "execution_count": 13,
   "metadata": {},
   "outputs": [
    {
     "name": "stdout",
     "output_type": "stream",
     "text": [
      "['a']\n"
     ]
    }
   ],
   "source": [
    "# buggy function that is expected to run each time with a fresh empty result list\n",
    "# but instead it retains the result from the previous list\n",
    "\n",
    "def buggy(arg, result=[]):\n",
    "    result.append(arg)\n",
    "    print(result)\n",
    "    \n",
    "buggy('a')"
   ]
  },
  {
   "cell_type": "code",
   "execution_count": 14,
   "metadata": {},
   "outputs": [
    {
     "name": "stdout",
     "output_type": "stream",
     "text": [
      "['a', 'b']\n"
     ]
    }
   ],
   "source": [
    "buggy('b')"
   ]
  },
  {
   "cell_type": "code",
   "execution_count": null,
   "metadata": {},
   "outputs": [],
   "source": []
  }
 ],
 "metadata": {
  "kernelspec": {
   "display_name": "Python [conda env:PythonData] *",
   "language": "python",
   "name": "conda-env-PythonData-py"
  },
  "language_info": {
   "codemirror_mode": {
    "name": "ipython",
    "version": 3
   },
   "file_extension": ".py",
   "mimetype": "text/x-python",
   "name": "python",
   "nbconvert_exporter": "python",
   "pygments_lexer": "ipython3",
   "version": "3.6.10"
  }
 },
 "nbformat": 4,
 "nbformat_minor": 4
}
